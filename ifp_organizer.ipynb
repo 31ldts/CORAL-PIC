{
  "nbformat": 4,
  "nbformat_minor": 0,
  "metadata": {
    "colab": {
      "provenance": [],
      "authorship_tag": "ABX9TyMpzgbgB671xxkmH3QkHvy1",
      "include_colab_link": true
    },
    "kernelspec": {
      "name": "python3",
      "display_name": "Python 3"
    },
    "language_info": {
      "name": "python"
    }
  },
  "cells": [
    {
      "cell_type": "markdown",
      "metadata": {
        "id": "view-in-github",
        "colab_type": "text"
      },
      "source": [
        "<a href=\"https://colab.research.google.com/github/31ldts/IFP-organizer/blob/main/ifp_organizer.ipynb\" target=\"_parent\"><img src=\"https://colab.research.google.com/assets/colab-badge.svg\" alt=\"Open In Colab\"/></a>"
      ]
    },
    {
      "cell_type": "markdown",
      "source": [
        "## API's install and import"
      ],
      "metadata": {
        "id": "CGhtlmNUPjod"
      }
    },
    {
      "cell_type": "code",
      "execution_count": null,
      "metadata": {
        "id": "-t67Br-OlK98",
        "collapsed": true
      },
      "outputs": [],
      "source": [
        "!pip install mplcursors --upgrade\n",
        "!pip install -i https://test.pypi.org/simple/ ifp-organizer"
      ]
    },
    {
      "cell_type": "code",
      "source": [
        "from ifp_organizer import AnalyzeInteractions\n",
        "analyzer = AnalyzeInteractions()"
      ],
      "metadata": {
        "id": "HszdvVlESqO4"
      },
      "execution_count": 2,
      "outputs": []
    },
    {
      "cell_type": "markdown",
      "source": [
        "## Change working directory"
      ],
      "metadata": {
        "id": "fz4W4eDUVeH7"
      }
    },
    {
      "cell_type": "markdown",
      "source": [
        "Changes the working directory for saving or input operations.\n",
        "\n",
        "```python\n",
        "def change_directory(self, path: str, mode: str) -> None\n",
        "```\n",
        "```python\n",
        "Args:\n",
        "    path (str): Name of the subdirectory to switch to.\n",
        "    mode (str): Determines whether to change the input or output directory.\n",
        "        - 'input': Sets the directory for input files.\n",
        "        - 'output': Sets the directory for output files.\n",
        "\n",
        "```"
      ],
      "metadata": {
        "id": "tNEg9bMKQHIP"
      }
    },
    {
      "cell_type": "code",
      "source": [
        "analyzer.change_directory(path=\"output\", mode=\"output\")\n",
        "analyzer.change_directory(path=\"input\", mode=\"input\")"
      ],
      "metadata": {
        "id": "uxR_oRiM6cj2"
      },
      "execution_count": 3,
      "outputs": []
    },
    {
      "cell_type": "markdown",
      "source": [
        "## Custom interaction settings"
      ],
      "metadata": {
        "id": "muczssEKVXuQ"
      }
    },
    {
      "cell_type": "markdown",
      "source": [
        "Configures interaction settings, including labels, colors, and visualization parameters.\n",
        "\n",
        "```python\n",
        "def set_config(self, interactions: list[str] = None, plot_max_cols: int = None, plot_colors: list[str] = None, reset: bool = False, mode: str = None, heat_max_cols: int = None, heat_colors: str = None, interaction_data: InteractionData = None ) -> None\n",
        "```\n",
        "\n",
        "```python\n",
        "Args:\n",
        "    interactions (list[str], optional): List of interaction labels.\n",
        "    plot_max_cols (int, optional): Maximum number of columns for plot visualization.\n",
        "    plot_colors (list[str], optional): List of colors in hexadecimal format.\n",
        "    reset (bool, optional): If True, resets configurations to default values.\n",
        "    mode (str, optional): Determines preset configurations for different analysis modes ('ichem' or 'arpeggio').\n",
        "    heat_max_cols (int, optional): Maximum number of columns for heatmap visualization.\n",
        "    heat_colors (str, optional): Color scheme for heatmaps.\n",
        "    interaction_data (InteractionData, optional): Object containing interaction settings to be applied.\n",
        "```"
      ],
      "metadata": {
        "id": "l_dWGDrMUis-"
      }
    },
    {
      "cell_type": "markdown",
      "source": [
        "## Analyze files"
      ],
      "metadata": {
        "id": "_u6lqHlkVNhA"
      }
    },
    {
      "cell_type": "markdown",
      "source": [
        "Analyzes interaction data files in a specified directory, processing them according to the specified mode.\n",
        "```python\n",
        "def analyze_files(self, directory: str, mode: str, activity_file: str = None, protein: bool = True, ligand: bool = True, subunit: bool = False, save: str = None) -> InteractionData\n",
        "```\n",
        "```python\n",
        "Args:\n",
        "    directory (str): Path to the directory containing interaction data files.\n",
        "    mode (str): Processing mode. Supported modes:\n",
        "        - 'ichem': Processes IChem interaction files.\n",
        "        - 'arpeggio': Processes Arpeggio interaction files.\n",
        "    activity_file (str, optional): Path to a CSV file containing activity data for annotation.\n",
        "    protein (bool, optional): Whether to include protein atoms in the analysis. Defaults to True.\n",
        "    ligand (bool, optional): Whether to include ligand atoms in the analysis. Defaults to True.\n",
        "    subunit (bool, optional): Whether to differentiate between protein subunits. Defaults to False.\n",
        "    save (str, optional): Path to save the processed interaction matrix. Defaults to None.\n",
        "```"
      ],
      "metadata": {
        "id": "hPuDSyslV6bu"
      }
    },
    {
      "cell_type": "code",
      "source": [
        "data = analyzer.analyze_files(directory=\"ichem-ifp\", mode='ichem', activity_file=\"ichem-ifp-activities.csv\")"
      ],
      "metadata": {
        "id": "lJANCU-1Wx5y"
      },
      "execution_count": 4,
      "outputs": []
    },
    {
      "cell_type": "markdown",
      "source": [
        "## Generate graphics"
      ],
      "metadata": {
        "id": "cgeWo3lZX7ki"
      }
    },
    {
      "cell_type": "markdown",
      "source": [
        "Generate a bar chart based on interaction data.\n",
        "```python\n",
        "def bar_chart(self, interaction_data: InteractionData, plot_name: str, axis: str, label_x: str = None, label_y: str = \"Number of intermolecular interactions\", title: str = \"Protein-drug interactions\", stacked: bool = False, save: bool = False, colors: list[str] = None, type_count: bool = False) -> None\n",
        "```\n",
        "```python\n",
        "Args:\n",
        "    interaction_data (InteractionData): The object containing the interaction matrix.\n",
        "    plot_name (str): Name of the plot (used for saving).\n",
        "    axis (str): Defines whether to plot rows ('rows') or columns ('columns').\n",
        "    label_x (str, optional): Label for the x-axis. Defaults to \"Interacting protein residues\".\n",
        "    label_y (str, optional): Label for the y-axis. Defaults to \"Number of intermolecular interactions\".\n",
        "    title (str, optional): Title of the chart. Defaults to \"Protein-drug interactions\".\n",
        "    stacked (bool, optional): If True, creates a stacked bar chart. Defaults to False.\n",
        "    save (bool, optional): If True, saves the chart as a PNG file. Defaults to False.\n",
        "    colors (list[str], optional): List of colors for interaction types. Defaults to None.\n",
        "    type_count (bool, optional): If True, counts the occurrences of each interaction type. Defaults to False.\n",
        "```"
      ],
      "metadata": {
        "id": "4fAK8FA5YBOc"
      }
    },
    {
      "cell_type": "code",
      "source": [
        "analyzer.bar_chart(interaction_data=data, plot_name=\"test\", axis=\"rows\", stacked=True, save=False)"
      ],
      "metadata": {
        "collapsed": true,
        "id": "riWMGl-xZHwx"
      },
      "execution_count": null,
      "outputs": []
    },
    {
      "cell_type": "markdown",
      "source": [
        "Generate a pie chart based on interaction data.\n",
        "```python\n",
        "def pie_chart(self, interaction_data: InteractionData, plot_name: str, axis: str, save: bool = False, colors: list[str] = None, type_count: bool = False) -> None\n",
        "```\n",
        "```python\n",
        "Args:\n",
        "    interaction_data (InteractionData): The object containing the interaction matrix.\n",
        "    plot_name (str): The name of the plot (used for saving).\n",
        "    axis (str): Defines whether to analyze rows ('rows') or columns ('columns').\n",
        "    save (bool, optional): If True, saves the pie chart instead of displaying it. Defaults to False.\n",
        "    colors (list[str], optional): List of colors for interaction types. Defaults to None.\n",
        "    type_count (bool, optional): If True, counts the occurrences of each interaction type instead of using interaction values. Defaults to False.\n",
        "```"
      ],
      "metadata": {
        "id": "CTOO5reTag_b"
      }
    },
    {
      "cell_type": "code",
      "source": [
        "analyzer.pie_chart(interaction_data=data, plot_name=\"test\", axis=\"rows\", save=False)"
      ],
      "metadata": {
        "collapsed": true,
        "id": "DWWKCgBvbA3l"
      },
      "execution_count": null,
      "outputs": []
    },
    {
      "cell_type": "markdown",
      "source": [
        "Generate a heatmap based on interaction data using different processing modes.\n",
        "```python\n",
        "def heatmap(self, interaction_data: InteractionData, title: str, mode: str, x_label: str = \"\", y_label: str = \"\", min_v: int = None, max_v: int = None, save: bool = False)\n",
        "```\n",
        "```python\n",
        "Args:\n",
        "    interaction_data (InteractionData): The object containing the interaction matrix.\n",
        "    title (str): Title of the heatmap.\n",
        "    mode (str): Processing mode ('min', 'max', 'mean', 'count', or 'percent').\n",
        "    x_label (str, optional): Label for the x-axis. Defaults to an empty string.\n",
        "    y_label (str, optional): Label for the y-axis. Defaults to an empty string.\n",
        "    min_v (int, optional): Minimum value for the heatmap color scale. Defaults to None (auto-scaling).\n",
        "    max_v (int, optional): Maximum value for the heatmap color scale. Defaults to None (auto-scaling).\n",
        "    save (bool, optional): If True, saves the heatmap instead of displaying it. Defaults to False.\n",
        "```"
      ],
      "metadata": {
        "id": "DDgH8-eebk_I"
      }
    },
    {
      "cell_type": "code",
      "source": [
        "analyzer.heatmap(interaction_data=data, title=\"test\", mode='min', save=False)"
      ],
      "metadata": {
        "collapsed": true,
        "id": "Y0a5856ib-dp"
      },
      "execution_count": null,
      "outputs": []
    },
    {
      "cell_type": "markdown",
      "source": [
        "##Filter data"
      ],
      "metadata": {
        "id": "tMznwT0TcnpU"
      }
    },
    {
      "cell_type": "markdown",
      "source": [
        "Filter an interaction matrix based on specified interaction types.\n",
        "```python\n",
        "def filter_by_interaction(self, interaction_data: InteractionData, interactions: list[int], save: str = None) -> InteractionData\n",
        "```\n",
        "```python\n",
        "Args:\n",
        "    interaction_data (InteractionData): The object containing the interaction matrix.\n",
        "    interactions (list[int]): List of valid interaction types (numbers 1 to 7) to retain in the matrix.\n",
        "    save (str, optional): File path to save the filtered matrix. Defaults to None.\n",
        "```"
      ],
      "metadata": {
        "id": "2L-YlfLWcsty"
      }
    },
    {
      "cell_type": "code",
      "source": [
        "data_filtered = analyzer.filter_by_interaction(interaction_data=data, interactions=[1,2,3], save=\"test.xlsx\")"
      ],
      "metadata": {
        "id": "5zlsrIrQc_g3"
      },
      "execution_count": null,
      "outputs": []
    },
    {
      "cell_type": "markdown",
      "source": [
        "Filter an interaction matrix based on specified subunits.\n",
        "```python\n",
        "def filter_by_subunit(self, interaction_data: InteractionData, subunits: list[str], save: str = None) -> InteractionData\n",
        "```\n",
        "```python\n",
        "Args:\n",
        "    interaction_data (InteractionData): The object containing the interaction matrix.\n",
        "    subunits (list[str]): List of valid subunits used as filtering criteria.\n",
        "    save (str, optional): File path to save the filtered matrix. Defaults to None.\n",
        "\n",
        "```"
      ],
      "metadata": {
        "id": "_jZ8_JDgd4xR"
      }
    },
    {
      "cell_type": "code",
      "source": [
        "data_filtered = analyzer.filter_by_subunit(interaction_data=data, subunits=[\"A\", \"B\"], save=\"test.xlsx\")"
      ],
      "metadata": {
        "id": "6HCxUoYyeVI_"
      },
      "execution_count": null,
      "outputs": []
    },
    {
      "cell_type": "markdown",
      "source": [
        "Filter an interaction matrix based on a specified chain or subpockets.\n",
        "```python\n",
        "def filter_chain(self, interaction_data: InteractionData, chain: str = None, subpocket_path: str = None, subpockets: list[str] = None, save: str = None) -> InteractionData\n",
        "```\n",
        "```python\n",
        "Args:\n",
        "    interaction_data (InteractionData): The object containing the interaction matrix.\n",
        "    chain (str, optional): Specifies whether to retain \"<main>\" or \"<side>\" interactions. Defaults to None.\n",
        "    subpocket_path (str, optional): Path to the file containing subpocket residue definitions. Defaults to None.\n",
        "    subpockets (list[str], optional): List of subpockets to use for residue-based filtering. Defaults to None.\n",
        "    save (str, optional): File path to save the filtered matrix. Defaults to None.\n",
        "```"
      ],
      "metadata": {
        "id": "6h5x6VnlegYm"
      }
    },
    {
      "cell_type": "code",
      "source": [
        "data_filtered = analyzer.filter_chain(interaction_data=data, chain=\"<side>\", subpocket_path=\"subpockets.csv\", subpockets=[\"S1'\", \"S2\"], save=\"test.xlsx\")"
      ],
      "metadata": {
        "id": "jXyWzG58e6Jh"
      },
      "execution_count": null,
      "outputs": []
    },
    {
      "cell_type": "markdown",
      "source": [
        "##Sort data"
      ],
      "metadata": {
        "id": "dtpXx-WyfhaH"
      }
    },
    {
      "cell_type": "markdown",
      "source": [
        "Sort and filter rows or columns in the interaction matrix based on interaction criteria.\n",
        "```python\n",
        "def sort_matrix(self, interaction_data: InteractionData, axis: str = 'rows', thr_interactions: int = None, thr_activity: float = None, selected_items: int = None, count: bool = False, residue_chain: bool = False, save: str = None) -> InteractionData\n",
        "```\n",
        "```python\n",
        "Args:\n",
        "    interaction_data (InteractionData): The interaction data to be sorted.\n",
        "    axis (str, optional): Specifies whether to sort rows ('rows') or columns ('columns'). Defaults to 'rows'.\n",
        "    thr_interactions (int, optional): Minimum number of interactions required to retain a row/column.\n",
        "    thr_activity (float, optional): Minimum activity value required to retain a row/column.\n",
        "    selected_items (int, optional): Number of top rows/columns to keep based on interaction count.\n",
        "    count (bool, optional): If True, returns the count of interactions instead of modifying the matrix.\n",
        "    residue_chain (bool, optional): If True, sorts the resulting matrix based on residue order in the chain.\n",
        "    save (str, optional): File path to save the resulting matrix. Defaults to None.\n",
        "```"
      ],
      "metadata": {
        "id": "K8ViUDgjfmuL"
      }
    },
    {
      "cell_type": "code",
      "source": [
        "data_sorted = analyzer.sort_matrix(interaction_data=data, thr_activity=6.0, save=\"test.xlsx\")"
      ],
      "metadata": {
        "id": "aR0iosqXgLWa"
      },
      "execution_count": null,
      "outputs": []
    },
    {
      "cell_type": "markdown",
      "source": [
        "## Remove empty"
      ],
      "metadata": {
        "id": "WrYXPOpAg8Y4"
      }
    },
    {
      "cell_type": "markdown",
      "source": [
        "Remove empty rows and columns from the interaction matrix.\n",
        "```python\n",
        "def remove_empty_axis(self, interaction_data: InteractionData, save: str = None) -> InteractionData\n",
        "```\n",
        "```python\n",
        "Args:\n",
        "    interaction_data (InteractionData): The input interaction data from which empty rows and columns will be removed.\n",
        "    save (str, optional): The filename to save the cleaned matrix. If None, the matrix will not be saved.\n",
        "```"
      ],
      "metadata": {
        "id": "QOFier1ChWij"
      }
    },
    {
      "cell_type": "code",
      "source": [
        "data_removed = analyzer.remove_empty_axis(interaction_data=data, save=\"test.xlsx\")"
      ],
      "metadata": {
        "id": "1qH7bVN8iMRz"
      },
      "execution_count": null,
      "outputs": []
    },
    {
      "cell_type": "markdown",
      "source": [
        "##Save data"
      ],
      "metadata": {
        "id": "O8zQxrmkiVLX"
      }
    },
    {
      "cell_type": "markdown",
      "source": [
        "Each method allow to save the data, but it can also be saved by the following one.\n",
        "```python\n",
        "def save_interaction_data(self, interaction_data: InteractionData, filename: str) -> None:\n",
        "```\n",
        "```python\n",
        "Args:\n",
        "    interaction_data (InteractionData): The interaction data to be saved.\n",
        "    filename (str): The name of the output file (must end with '.xlsx').\n",
        "```"
      ],
      "metadata": {
        "id": "17zDVt1OiaXJ"
      }
    },
    {
      "cell_type": "code",
      "source": [
        "analyzer.save_interaction_data(interaction_data=data, filename=\"test.xlsx\")"
      ],
      "metadata": {
        "id": "dtMmHrvSjAWz"
      },
      "execution_count": null,
      "outputs": []
    }
  ]
}